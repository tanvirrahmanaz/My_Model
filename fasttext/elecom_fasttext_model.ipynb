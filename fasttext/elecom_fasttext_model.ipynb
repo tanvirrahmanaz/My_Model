{
  "nbformat": 4,
  "nbformat_minor": 0,
  "metadata": {
    "colab": {
      "provenance": [],
      "authorship_tag": "ABX9TyNsow3c/wm64LFBigPd00pL",
      "include_colab_link": true
    },
    "kernelspec": {
      "name": "python3",
      "display_name": "Python 3"
    },
    "language_info": {
      "name": "python"
    }
  },
  "cells": [
    {
      "cell_type": "markdown",
      "metadata": {
        "id": "view-in-github",
        "colab_type": "text"
      },
      "source": [
        "<a href=\"https://colab.research.google.com/github/tanvirrahmanaz/My_Model/blob/main/fasttext/elecom_fasttext_model.ipynb\" target=\"_parent\"><img src=\"https://colab.research.google.com/assets/colab-badge.svg\" alt=\"Open In Colab\"/></a>"
      ]
    },
    {
      "cell_type": "markdown",
      "source": [
        "**Load Model**"
      ],
      "metadata": {
        "id": "2QVs_iAGXet6"
      }
    },
    {
      "cell_type": "code",
      "execution_count": 2,
      "metadata": {
        "colab": {
          "base_uri": "https://localhost:8080/"
        },
        "id": "Y5Joges_XHS5",
        "outputId": "d07a5bad-82cf-4e30-cb0e-60e046f23eea"
      },
      "outputs": [
        {
          "output_type": "stream",
          "name": "stdout",
          "text": [
            "/usr/local/lib/python3.10/dist-packages/gdown/cli.py:121: FutureWarning: Option `--id` was deprecated in version 4.3.1 and will be removed in 5.0. You don't need to pass it anymore to use a file ID.\n",
            "  warnings.warn(\n",
            "Downloading...\n",
            "From: https://drive.google.com/uc?id=14Z-ubW3SqPeH-tpsKx5l3_PR2UX35Rko\n",
            "To: /content/fivemodel79.bin\n",
            "100% 41.4M/41.4M [00:01<00:00, 26.3MB/s]\n"
          ]
        }
      ],
      "source": [
        "#import data set\n",
        "! gdown --id 14Z-ubW3SqPeH-tpsKx5l3_PR2UX35Rko"
      ]
    },
    {
      "cell_type": "code",
      "source": [
        "!pip install fasttext\n",
        "import fasttext\n",
        "\n",
        "# Specify the path to your uploaded .bin model file\n",
        "model_path = \"/content/fivemodel79.bin\"\n",
        "\n",
        "# Load the FastText model\n",
        "model_fast = fasttext.load_model(model_path)"
      ],
      "metadata": {
        "colab": {
          "base_uri": "https://localhost:8080/"
        },
        "id": "F87s2UYqYM8j",
        "outputId": "c6e9f16b-84a0-4402-9d3a-2b00448c1f1d"
      },
      "execution_count": 4,
      "outputs": [
        {
          "output_type": "stream",
          "name": "stdout",
          "text": [
            "Collecting fasttext\n",
            "  Using cached fasttext-0.9.2.tar.gz (68 kB)\n",
            "  Preparing metadata (setup.py) ... \u001b[?25l\u001b[?25hdone\n",
            "Requirement already satisfied: pybind11>=2.2 in /usr/local/lib/python3.10/dist-packages (from fasttext) (2.11.1)\n",
            "Requirement already satisfied: setuptools>=0.7.0 in /usr/local/lib/python3.10/dist-packages (from fasttext) (67.7.2)\n",
            "Requirement already satisfied: numpy in /usr/local/lib/python3.10/dist-packages (from fasttext) (1.23.5)\n",
            "Building wheels for collected packages: fasttext\n",
            "  Building wheel for fasttext (setup.py) ... \u001b[?25l\u001b[?25hdone\n",
            "  Created wheel for fasttext: filename=fasttext-0.9.2-cp310-cp310-linux_x86_64.whl size=4199771 sha256=b108f917ce3c9dd844bb7fced95e370de1f687f34e0e34d132e4a2a01d5f22b5\n",
            "  Stored in directory: /root/.cache/pip/wheels/a5/13/75/f811c84a8ab36eedbaef977a6a58a98990e8e0f1967f98f394\n",
            "Successfully built fasttext\n",
            "Installing collected packages: fasttext\n",
            "Successfully installed fasttext-0.9.2\n"
          ]
        },
        {
          "output_type": "stream",
          "name": "stderr",
          "text": [
            "Warning : `load_model` does not return WordVectorModel or SupervisedModel any more, but a `FastText` object which is very similar.\n"
          ]
        }
      ]
    },
    {
      "cell_type": "markdown",
      "source": [
        "***CNI - Network issue      \n",
        "CCI - Call Center Issue       \n",
        "DP - Data Package Issue                    \n",
        "AV - Availability Issue                  \n",
        "MFS - Mobile Financial Service Issue***"
      ],
      "metadata": {
        "id": "fmT-x7YAZPUh"
      }
    },
    {
      "cell_type": "code",
      "source": [
        "input_text = input(\"Enter your Text: \")\n",
        "model_fast.predict(input_text)"
      ],
      "metadata": {
        "colab": {
          "base_uri": "https://localhost:8080/"
        },
        "id": "iAH9MoXCYm-f",
        "outputId": "18d123a1-1381-4730-e20e-9b4fbe92eb85"
      },
      "execution_count": 5,
      "outputs": [
        {
          "name": "stdout",
          "output_type": "stream",
          "text": [
            "Enter your Text: network vala na\n"
          ]
        },
        {
          "output_type": "execute_result",
          "data": {
            "text/plain": [
              "(('__label__CNI',), array([1.00001001]))"
            ]
          },
          "metadata": {},
          "execution_count": 5
        }
      ]
    },
    {
      "cell_type": "code",
      "source": [],
      "metadata": {
        "id": "8kjRh43iZKFQ"
      },
      "execution_count": null,
      "outputs": []
    }
  ]
}